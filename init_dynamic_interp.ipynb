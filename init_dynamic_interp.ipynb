{
 "cells": [
  {
   "cell_type": "code",
   "execution_count": 1,
   "metadata": {},
   "outputs": [],
   "source": [
    "##\n",
    "## This script is designed to extract a specific vertical profile from WRF\n",
    "## A few lines are hard coded and will require further editing to be used with other cases\n",
    "##"
   ]
  },
  {
   "cell_type": "code",
   "execution_count": 2,
   "metadata": {},
   "outputs": [],
   "source": [
    "import pandas as pd\n",
    "import os\n",
    "from glob import glob\n",
    "from os.path import join\n",
    "import matplotlib.pyplot as plt\n",
    "import matplotlib.dates as mdates\n",
    "import netCDF4 as nc\n",
    "import numpy as np\n",
    "import xarray as xr\n",
    "from scipy.interpolate import interp2d\n",
    "from datetime import datetime, timedelta\n",
    "from tqdm import tqdm\n",
    "from pandas.plotting import register_matplotlib_converters\n",
    "from wrf import getvar, ALL_TIMES,destagger, interplevel\n",
    "register_matplotlib_converters()"
   ]
  },
  {
   "cell_type": "code",
   "execution_count": 3,
   "metadata": {},
   "outputs": [],
   "source": [
    "params={     \n",
    "    'axes.labelsize'  : '16',   \n",
    "    'axes.titlesize'  : '16',  \n",
    "    'xtick.labelsize' :'14',\n",
    "    'ytick.labelsize' :'16',    \n",
    "    'lines.linewidth' : '1' ,    \n",
    "    'legend.fontsize' : '16', \n",
    "    'figure.figsize'   : '16, 9'    \n",
    "}\n",
    "plt.rcParams.update(params)"
   ]
  },
  {
   "cell_type": "code",
   "execution_count": 4,
   "metadata": {},
   "outputs": [],
   "source": [
    "def nearest(array, number):\n",
    "    nearest_index = np.where(np.abs(array - number) == np.nanmin(np.abs(array - number)))\n",
    "    nearest_index = int(nearest_index[0])\n",
    "    nearest_number = array[nearest_index]\n",
    "\n",
    "    return (nearest_number, nearest_index)\n",
    "\n",
    "def calc_wdir(u,v):\n",
    "    wdir = np.arctan2(u,v)*180/np.pi\n",
    "    wdir[wdir<0] = wdir[wdir<0]+360\n",
    "    return wdir"
   ]
  },
  {
   "cell_type": "code",
   "execution_count": 5,
   "metadata": {},
   "outputs": [],
   "source": [
    "def rh2qv(rh, press, air_temp):\n",
    "    '''\n",
    "    calculate QV using RH, pressure in hPa, and temperature in K\n",
    "    '''\n",
    "#     rh = np.float(sys.argv[1])\n",
    "#     press = 1000\n",
    "#     air_temp = 279.435791\n",
    "    pt = air_temp*(1000/press)**(0.286)\n",
    "    # Calculate specific humidity\n",
    "    temp_degc = air_temp-273\n",
    "    e_s = 0.61121*np.exp((18.678-temp_degc/234.5)*(temp_degc/(257.14+temp_degc))) # units: kPa\n",
    "\n",
    "    w_s = 0.622*(e_s*10/press)\n",
    "\n",
    "    w = rh/100*w_s\n",
    "    qv = w/(1+w)\n",
    "    return qv\n",
    "\n",
    "def calc_uv(windspd, winddir):\n",
    "    '''\n",
    "    convert wind speed and wind direction to u & v\n",
    "    '''\n",
    "    rad = np.pi/180\n",
    "    u, v = -windspd*np.sin(winddir * rad), -windspd*np.cos(winddir * rad)\n",
    "    return(u, v)\n"
   ]
  },
  {
   "cell_type": "code",
   "execution_count": 6,
   "metadata": {},
   "outputs": [],
   "source": [
    "# specify timestamp\n",
    "ts = '200108051200'#33"
   ]
  },
  {
   "cell_type": "code",
   "execution_count": 7,
   "metadata": {},
   "outputs": [],
   "source": [
    "wrf_path = '/data/WRF-model/V4.2/WRF-4.2/run/conus/'\n",
    "wrf_file = 'wrfout_d04_2001-08-05_00:00:00'\n",
    "\n",
    "ds_wrf = xr.open_dataset(wrf_path+wrf_file)\n",
    "# add timestamp for selection\n",
    "ds_wrf['Time'] = ds_wrf['XTIME']"
   ]
  },
  {
   "cell_type": "markdown",
   "metadata": {},
   "source": [
    "# Read AWS"
   ]
  },
  {
   "cell_type": "code",
   "execution_count": 8,
   "metadata": {},
   "outputs": [],
   "source": [
    "aws_path = '/data/WRF-model/WRF-validation/'\n",
    "aws_file = 'CHA_2001.nc'\n",
    "ds_aws = xr.open_dataset(aws_path+aws_file)\n",
    "# CHA latitude/ longitude\n",
    "lat_aws = -43.489 \n",
    "lon_aws = 172.528"
   ]
  },
  {
   "cell_type": "code",
   "execution_count": 9,
   "metadata": {},
   "outputs": [],
   "source": [
    "temp_aws = ds_aws['Tair'].sel(time=slice(ds_wrf['Time'][0], ds_wrf['Time'][-1]))+273.15\n",
    "wspd_aws = ds_aws['wind_spd'].sel(time=slice(ds_wrf['Time'][0], ds_wrf['Time'][-1]))\n",
    "wdir_aws = ds_aws['wind_dir'].sel(time=slice(ds_wrf['Time'][0], ds_wrf['Time'][-1]))\n",
    "rh_aws = ds_aws['RH'].sel(time=slice(ds_wrf['Time'][0], ds_wrf['Time'][-1]))\n",
    "u_aws, v_aws = calc_uv(wspd_aws, wdir_aws)"
   ]
  },
  {
   "cell_type": "markdown",
   "metadata": {},
   "source": [
    "# Read CliFlo Upperair data"
   ]
  },
  {
   "cell_type": "code",
   "execution_count": 10,
   "metadata": {},
   "outputs": [],
   "source": [
    "# CliFlo upper air obs\n",
    "cliflo_path = '/data/CliFlo/CHA/'\n",
    "wind_file = 'upper_air_2001-wind.genform1_proc'\n",
    "temp_file = 'upper_air_2001-temperature.genform1_proc'\n",
    "\n",
    "df_wind_upair = pd.read_csv(cliflo_path+wind_file, sep='\\t', skiprows=8, header=0)\n",
    "df_wind_upair.drop(df_wind_upair.tail(6).index,inplace=True)\n",
    "df_wind_upair.replace('-',np.nan,inplace=True)\n",
    "\n",
    "df_temp_upair = pd.read_csv(cliflo_path+temp_file, sep='\\t', skiprows=8, header=0)\n",
    "df_temp_upair.drop(df_temp_upair.tail(6).index,inplace=True)\n",
    "df_temp_upair.replace('-',np.nan,inplace=True)"
   ]
  },
  {
   "cell_type": "code",
   "execution_count": 11,
   "metadata": {},
   "outputs": [],
   "source": [
    "wind_dt = pd.to_datetime(df_wind_upair['Date(UTC)'],format='%Y,%m,%d,%H,%M')\n",
    "temp_dt = pd.to_datetime(df_temp_upair['Date(UTC)'],format='%Y,%m,%d,%H,%M')\n",
    "\n",
    "mask_wind = wind_dt == ts\n",
    "mask_temp = temp_dt == ts"
   ]
  },
  {
   "cell_type": "code",
   "execution_count": 12,
   "metadata": {},
   "outputs": [],
   "source": [
    "tt_upair = df_temp_upair['Tair(C)'][mask_temp].astype(np.float32)+273.15\n",
    "pres_upair = df_temp_upair['Pressure(hPa)'][mask_temp].astype(np.float32)\n",
    "thgt_upair = df_temp_upair['Height(m)'][mask_temp].astype(np.float32)\n",
    "\n",
    "wt_upair = df_wind_upair['Tair(C)'][mask_wind].astype(np.float32)+273.15 \n",
    "wdir_upair = df_wind_upair['Dir(degT)'][mask_wind].astype(np.float32)\n",
    "whgt_upair = df_wind_upair['Height(m)'][mask_wind].astype(np.float32)\n",
    "wspd_upair = df_wind_upair['Speed(m/s)'][mask_wind].astype(np.float32)\n",
    "u_upair, v_upair = calc_uv(wspd_upair, wdir_upair)"
   ]
  },
  {
   "cell_type": "markdown",
   "metadata": {},
   "source": [
    "# Read WRF"
   ]
  },
  {
   "cell_type": "markdown",
   "metadata": {},
   "source": [
    "We will need:  \n",
    "- vertical profile of u (U3d, U10)  \n",
    "- vertical profile of v (V3d, V10) \n",
    "- vertical levels of u and v (PH, PHB) \n",
    "- surface pt (T2) \n",
    "- vertical gradient of pt (T2, theta)  \n",
    "- vertical levels of pt (PH, PHB) \n",
    "- surface qv (QVAPOR)  \n",
    "- vertical gradient of qv (QVAPOR)   \n",
    "- vertical levels of qv (PH, PHB)  \n"
   ]
  },
  {
   "cell_type": "code",
   "execution_count": 13,
   "metadata": {},
   "outputs": [],
   "source": [
    "# read latitudes and longitudes\n",
    "lats_wrf = ds_wrf['XLAT'][0, :, 0]\n",
    "lons_wrf = ds_wrf['XLONG'][0, 0, :]\n",
    "_, idx_lat = nearest(lats_wrf, lat_aws)\n",
    "_, idx_lon = nearest(lons_wrf, lon_aws)"
   ]
  },
  {
   "cell_type": "code",
   "execution_count": 14,
   "metadata": {},
   "outputs": [],
   "source": [
    "## read variables\n",
    "# potential temperature\n",
    "theta_wrf = ds_wrf['T'][:, :, idx_lat, idx_lon] +300\n",
    "\n",
    "# pressure\n",
    "geop_wrf = ds_wrf['PH'] + ds_wrf['PHB']\n",
    "press_wrf = (ds_wrf['P'][:, :, idx_lat, idx_lon] + ds_wrf['PB'][:, :, idx_lat, idx_lon]) *0.01\n",
    "\n",
    "# temperature\n",
    "tk_wrf = theta_wrf/((1000/press_wrf)**0.286)\n",
    "\n",
    "# height\n",
    "geoh_wrf = geop_wrf[:, :, idx_lat, idx_lon]/9.81\n",
    "\n",
    "# wind\n",
    "u_wrf = ds_wrf['U'][:, :, idx_lat, idx_lon]\n",
    "v_wrf = ds_wrf['V'][:, :, idx_lat, idx_lon]\n",
    "wspd_wrf = xr.ufuncs.sqrt(u_wrf**2+v_wrf**2)\n",
    "\n",
    "# water vapour mixing ratio\n",
    "qv_wrf = ds_wrf['QVAPOR'][:, :, idx_lat, idx_lon]\n",
    "\n",
    "# soil moisture\n",
    "smois_wrf = ds_wrf['SMOIS'][:, :, idx_lat, idx_lon]\n",
    "\n",
    "# soil temperature\n",
    "tslb_wrf = ds_wrf['TSLB'][:, :, idx_lat, idx_lon]"
   ]
  },
  {
   "cell_type": "code",
   "execution_count": 15,
   "metadata": {},
   "outputs": [],
   "source": [
    "# layers for soil temperature and moisture calculation\n",
    "# this shall be changed depending on different cases\n",
    "dz_soil = np.array([0.01, 0.02, 0.04, 0.06, 0.14, 0.26, 0.54, 1.86])\n",
    "\n",
    "# depth of soil layer\n",
    "zs = ds_wrf['ZS'][0, :].data\n",
    "# thickness of soil layer\n",
    "dzs = ds_wrf['DZS'][0, :].data\n",
    "# # landmask - 1 is land, 0 is water\n",
    "# landmask = ds_wrf['LANDMASK'][0, idx_lat, idx_lon].data\n",
    "# TMN - soil temperature at lower boundary\n",
    "tmn = ds_wrf['TMN'][:, idx_lat, idx_lon]\n",
    "\n",
    "init_soil_t = np.zeros(dz_soil.shape[0])\n",
    "init_soil_m = np.zeros(dz_soil.shape[0])\n",
    "\n",
    "\n",
    "    \n",
    "init_soil_t[:] = np.interp(dz_soil, zs, tslb_wrf.sel(Time=ts).data)\n",
    "init_soil_m[:] = np.interp(dz_soil, zs, smois_wrf.sel(Time=ts).data)\n",
    "deep_soil_t = tmn.sel(Time=ts).data\n"
   ]
  },
  {
   "cell_type": "code",
   "execution_count": 16,
   "metadata": {},
   "outputs": [],
   "source": [
    "# qvapor near surface from AWS\n",
    "# use lowest level of upper air temperature observation\n",
    "# WRF lowest level is above AWS height\n",
    "qv_surface = rh2qv(rh_aws.sel(time=ts).data, pres_upair.iloc[0], tt_upair.iloc[0]) \n",
    "# use AWS temperature \n",
    "# assuming pressure at 2 m is similar to sea level\n",
    "pt_surface = temp_aws.sel(time=ts).data \n"
   ]
  },
  {
   "cell_type": "code",
   "execution_count": 17,
   "metadata": {},
   "outputs": [],
   "source": [
    "# start to define vertical levels here\n",
    "# we want to use upper air observations here\n",
    "\n",
    "# 1. set uv profiles\n",
    "# lowest level is 0 m with zero wind speed (remove if use flat terrain)\n",
    "uv_heights = np.zeros(len(whgt_upair)+2)\n",
    "uv_heights[1] = 10.0\n",
    "uv_heights[2:] = np.array(whgt_upair)\n",
    "\n",
    "u_profile = np.zeros_like(uv_heights)\n",
    "u_profile[1] = u_aws.sel(time=ts).data\n",
    "u_profile[2:] = np.array(u_upair)\n",
    "\n",
    "v_profile = np.zeros_like(uv_heights)\n",
    "v_profile[1] = v_aws.sel(time=ts).data\n",
    "v_profile[2:] = np.array(v_upair)"
   ]
  },
  {
   "cell_type": "code",
   "execution_count": 18,
   "metadata": {},
   "outputs": [],
   "source": [
    "# 2. potential temperature profile\n",
    "pt_levels = np.zeros(len(thgt_upair)+1)\n",
    "pt_levels[0] = 2.0\n",
    "pt_levels[1:] = np.array(thgt_upair)\n",
    "\n",
    "pt_profile = np.zeros(len(thgt_upair)+1)\n",
    "pt_profile[0] = pt_surface\n",
    "pt_profile[1:] = tt_upair*(1000/pres_upair)**(2/7)"
   ]
  },
  {
   "cell_type": "code",
   "execution_count": 20,
   "metadata": {},
   "outputs": [],
   "source": [
    "zwrf = destagger(geoh_wrf.sel(Time=ts), stagger_dim=0)\n",
    "qv = qv_wrf.sel(Time=ts)\n"
   ]
  },
  {
   "cell_type": "code",
   "execution_count": 22,
   "metadata": {},
   "outputs": [],
   "source": [
    "hmax = thgt_upair.iloc[-1]\n",
    "level_max = np.argwhere(zwrf<hmax)[-1,0]"
   ]
  },
  {
   "cell_type": "code",
   "execution_count": 23,
   "metadata": {},
   "outputs": [],
   "source": [
    "# pt and qv profiles counting from 2 m\n",
    "qv_levels = np.zeros(level_max+1)\n",
    "qv_levels[0] = 2.0\n",
    "qv_levels[1:] = zwrf[:level_max]\n",
    "\n",
    "qv_profile = np.zeros(level_max+1)\n",
    "qv_profile[0] = qv_surface\n",
    "qv_profile[1:] = qv[:level_max]\n"
   ]
  },
  {
   "cell_type": "code",
   "execution_count": 24,
   "metadata": {},
   "outputs": [],
   "source": [
    "def calc_gradient(z, vert, step):\n",
    "        '''\n",
    "        z : vertical heights\n",
    "        vert : vertical profiles\n",
    "        '''\n",
    "        lvl = [z[0]]\n",
    "        pr = [vert[0]]\n",
    "        mask_lower = z<=100\n",
    "        mask_upper = z>100\n",
    "        for j in range(0,len(z[mask_lower])):\n",
    "            if j==0:\n",
    "                continue\n",
    "            else:\n",
    "                lvl.append(z[mask_lower][j])\n",
    "                pr.append(vert[mask_lower][j])\n",
    "        for i in range(0, len(z[mask_upper]), step):\n",
    "#                 if i==0:\n",
    "#                     continue\n",
    "#                 else:\n",
    "                    lvl.append(z[mask_upper][i])\n",
    "                    pr.append(vert[mask_upper][i])\n",
    "            \n",
    "        # pr.append(vert[-1])\n",
    "        gradient = []\n",
    "        \n",
    "        for j in range(1,len(pr)):\n",
    "            # if j<len(pr):\n",
    "            gradient.append( (pr[j]-pr[j-1])*100 / (lvl[j]-lvl[j-1]) )\n",
    "            # else:\n",
    "            #     gradient.append( (pr[j]-pr[j-1]) / (z[-1]-lvl[j]) )\n",
    "        lvl.remove(lvl[-1])\n",
    "        return(gradient, lvl)"
   ]
  },
  {
   "cell_type": "code",
   "execution_count": 25,
   "metadata": {},
   "outputs": [],
   "source": [
    "pt_vertical_gradient, pt_gradient_level = calc_gradient(pt_levels, pt_profile, 2)\n",
    "qv_vertical_gradient, qv_gradient_level = calc_gradient(qv_levels, qv_profile, 3)"
   ]
  },
  {
   "cell_type": "code",
   "execution_count": 26,
   "metadata": {},
   "outputs": [],
   "source": [
    "def write_line(var_name, var_data):\n",
    "    var_data = np.around(var_data, 8)\n",
    "    if type(var_data) == np.float32 or type(var_data) == np.float64:\n",
    "        line = var_name + ' = ' + '{:.6f}'.format(var_data) + ', '  +'\\n' +'\\n'\n",
    "    else:\n",
    "        line = var_name + ' = ' + ', '.join(map(str, var_data)) +'\\n' +'\\n'\n",
    "\n",
    "    return line"
   ]
  },
  {
   "cell_type": "code",
   "execution_count": 27,
   "metadata": {},
   "outputs": [],
   "source": [
    "with open('/data/WRF-model/WRF-validation/namelist_test', 'w') as namelist:\n",
    "        namelist.write( write_line('uv_heights', uv_heights) )\n",
    "        namelist.write( write_line('u_profile', u_profile) )\n",
    "        namelist.write( write_line('v_profile', v_profile) )\n",
    "        namelist.write( write_line('pt_surface', pt_surface) )\n",
    "        namelist.write( write_line('pt_vertical_gradient', pt_vertical_gradient) )\n",
    "        namelist.write( write_line('pt_vertical_gradient_level', pt_gradient_level) )\n",
    "        namelist.write( write_line('q_surface', qv_surface) )\n",
    "        namelist.write( write_line('q_vertical_gradient', qv_vertical_gradient) )\n",
    "        namelist.write( write_line('q_vertical_gradient_level', qv_gradient_level) )\n",
    "        namelist.write('& land_surface_model \\n' )\n",
    "        namelist.write( write_line('dz_soil', dz_soil) )\n",
    "        namelist.write( write_line('soil_moisture', init_soil_m) )\n",
    "        namelist.write( write_line('soil_temperature', init_soil_t) )\n",
    "        namelist.write( write_line('deep_soil_temperature', deep_soil_t) )\n",
    "\n"
   ]
  },
  {
   "cell_type": "code",
   "execution_count": 28,
   "metadata": {},
   "outputs": [],
   "source": [
    "nx   = 64          \n",
    "ny   = 64  \n",
    "nz   = 20    \n",
    "dx   = 729.0  \n",
    "dy   = 729.0  \n",
    "dz   = 162.0\n",
    "y = np.arange(dy/2,dy*(ny+0.5),dy)\n",
    "x = np.arange(dx/2,dx*(nx+0.5),dx)\n",
    "z = np.arange(dz/2, dz*nz, dz)\n",
    "xu = x + np.gradient(x)/2\n",
    "xu = xu[:-1]\n",
    "yv = y + np.gradient(y)/2\n",
    "yv = yv[:-1]\n",
    "zw = z + np.gradient(z)/2\n",
    "zw = zw[:-1]\n"
   ]
  },
  {
   "cell_type": "code",
   "execution_count": 29,
   "metadata": {},
   "outputs": [],
   "source": [
    "interp_u = np.interp(z, uv_heights, u_profile)\n",
    "interp_v = np.interp(z, uv_heights, v_profile)\n",
    "interp_w = np.zeros_like(zw) # w is all zero\n",
    "interp_pt = np.interp(z, pt_levels, pt_profile)\n",
    "interp_qv = np.interp(z, qv_levels, qv_profile)"
   ]
  },
  {
   "cell_type": "code",
   "execution_count": 30,
   "metadata": {},
   "outputs": [],
   "source": [
    "init_msoil_3d = np.tile(init_soil_m[:, np.newaxis, np.newaxis], (1, ny, nx))\n",
    "init_tsoil_3d = np.tile(init_soil_t[:, np.newaxis, np.newaxis], (1, ny, nx))"
   ]
  },
  {
   "cell_type": "code",
   "execution_count": 31,
   "metadata": {},
   "outputs": [],
   "source": [
    "nc_output = xr.Dataset()\n",
    "nc_output['x'] = xr.DataArray(x, dims=['x'], attrs={'units':'m'})\n",
    "nc_output['y'] = xr.DataArray(y, dims=['y'], attrs={'units':'m'})\n",
    "nc_output['z'] = xr.DataArray(z, dims=['z'], attrs={'units':'m'})\n",
    "nc_output['xu'] = xr.DataArray(xu, dims=['xu'], attrs={'units':'m'})\n",
    "nc_output['yv'] = xr.DataArray(yv, dims=['yv'], attrs={'units':'m'})\n",
    "nc_output['zw'] = xr.DataArray(zw, dims=['zw'], attrs={'units':'m'})\n",
    "nc_output['zsoil'] = xr.DataArray(dz_soil, dims=['zsoil'], attrs={'units':'m'})\n",
    "nc_output.to_netcdf(\"soil_test_dynamic\")"
   ]
  },
  {
   "cell_type": "code",
   "execution_count": 32,
   "metadata": {},
   "outputs": [],
   "source": [
    "nc_output['init_atmosphere_pt'] = xr.DataArray(interp_pt,dims=['z'],\n",
    "         attrs={'units':'K', 'lod':np.int32(1)})\n",
    "nc_output['init_atmosphere_qv'] = xr.DataArray(interp_qv,dims=['z'],\n",
    "         attrs={'units':'kg/kg', 'lod':np.int32(1)})\n",
    "nc_output['init_atmosphere_u'] = xr.DataArray(interp_u,dims=['z'],\n",
    "         attrs={'units':'m/s', 'lod':np.int32(1)})\n",
    "nc_output['init_atmosphere_v'] = xr.DataArray(interp_v,dims=['z'],\n",
    "         attrs={'units':'m/s', 'lod':np.int32(1)})\n",
    "nc_output['init_atmosphere_w'] = xr.DataArray(interp_w,dims=['zw'],\n",
    "         attrs={'units':'m/s', 'lod':np.int32(1)})"
   ]
  },
  {
   "cell_type": "code",
   "execution_count": 33,
   "metadata": {},
   "outputs": [],
   "source": [
    "nc_output['init_soil_m'] = xr.DataArray(init_msoil_3d, dims=['zsoil','y','x'], \n",
    "         attrs={'units':'m^3/m^3','lod':np.int32(2)}) \n",
    "nc_output['init_soil_t'] = xr.DataArray(init_tsoil_3d, dims=['zsoil','y','x'], \n",
    "         attrs={'units':'K', 'lod':np.int32(1)}) "
   ]
  },
  {
   "cell_type": "code",
   "execution_count": 34,
   "metadata": {},
   "outputs": [],
   "source": [
    "for var in nc_output.data_vars:\n",
    "    encoding = {var: {'dtype': 'float32', '_FillValue': -9999, 'zlib':True}}\n",
    "    nc_output[var].to_netcdf(\"soil_test_dynamic\", mode ='a', encoding=encoding)"
   ]
  },
  {
   "cell_type": "code",
   "execution_count": 35,
   "metadata": {},
   "outputs": [],
   "source": [
    "nc_output.close()"
   ]
  },
  {
   "cell_type": "code",
   "execution_count": null,
   "metadata": {},
   "outputs": [],
   "source": []
  }
 ],
 "metadata": {
  "kernelspec": {
   "display_name": "Python 3",
   "language": "python",
   "name": "python3"
  },
  "language_info": {
   "codemirror_mode": {
    "name": "ipython",
    "version": 3
   },
   "file_extension": ".py",
   "mimetype": "text/x-python",
   "name": "python",
   "nbconvert_exporter": "python",
   "pygments_lexer": "ipython3",
   "version": "3.7.3"
  }
 },
 "nbformat": 4,
 "nbformat_minor": 5
}
